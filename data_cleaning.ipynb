{
 "cells": [
  {
   "cell_type": "code",
   "execution_count": 1,
   "metadata": {},
   "outputs": [],
   "source": [
    "# load packages\n",
    "import pandas as pd\n",
    "import numpy as np\n",
    "import glob\n",
    "import os\n",
    "from datetime import datetime"
   ]
  },
  {
   "cell_type": "code",
   "execution_count": 2,
   "metadata": {},
   "outputs": [],
   "source": [
    "# get path\n",
    "path = os.getcwd()+\"/Data\""
   ]
  },
  {
   "cell_type": "code",
   "execution_count": 3,
   "metadata": {},
   "outputs": [],
   "source": [
    "# get all files in the folder\n",
    "all_csv = glob.glob(path+\"/*.csv\")"
   ]
  },
  {
   "cell_type": "code",
   "execution_count": 4,
   "metadata": {},
   "outputs": [],
   "source": [
    "# loop through all_csv and concatinate them into one big csv\n",
    "bike_data = (pd.read_csv(file) for file in all_csv)\n",
    "bike_data_df = pd.concat(bike_data,ignore_index= True) "
   ]
  },
  {
   "cell_type": "code",
   "execution_count": 5,
   "metadata": {},
   "outputs": [
    {
     "data": {
      "text/plain": [
       "Index(['ride_id', 'rideable_type', 'started_at', 'ended_at',\n",
       "       'start_station_name', 'start_station_id', 'end_station_name',\n",
       "       'end_station_id', 'start_lat', 'start_lng', 'end_lat', 'end_lng',\n",
       "       'member_casual'],\n",
       "      dtype='object')"
      ]
     },
     "execution_count": 5,
     "metadata": {},
     "output_type": "execute_result"
    }
   ],
   "source": [
    "bike_data_df.columns"
   ]
  },
  {
   "cell_type": "code",
   "execution_count": 6,
   "metadata": {},
   "outputs": [
    {
     "data": {
      "text/plain": [
       "(608029, 13)"
      ]
     },
     "execution_count": 6,
     "metadata": {},
     "output_type": "execute_result"
    }
   ],
   "source": [
    "# check shape\n",
    "bike_data_df.shape"
   ]
  },
  {
   "cell_type": "code",
   "execution_count": 7,
   "metadata": {},
   "outputs": [],
   "source": [
    "# Data files in Jan and Feb have different column names than the rest of the files, these months will not be included in the analysis."
   ]
  },
  {
   "cell_type": "code",
   "execution_count": 8,
   "metadata": {},
   "outputs": [
    {
     "data": {
      "text/plain": [
       "ride_id                 0\n",
       "rideable_type           0\n",
       "started_at              0\n",
       "ended_at                0\n",
       "start_station_name      0\n",
       "start_station_id        0\n",
       "end_station_name        0\n",
       "end_station_id          0\n",
       "start_lat             0.0\n",
       "start_lng             0.0\n",
       "end_lat               0.0\n",
       "end_lng               0.0\n",
       "member_casual           0\n",
       "dtype: object"
      ]
     },
     "execution_count": 8,
     "metadata": {},
     "output_type": "execute_result"
    }
   ],
   "source": [
    "# start cleaning data\n",
    "#check for any blanks\n",
    "bike_data_df[bike_data_df == \"\"].sum()"
   ]
  },
  {
   "cell_type": "code",
   "execution_count": 9,
   "metadata": {},
   "outputs": [
    {
     "data": {
      "text/plain": [
       "ride_id                  0\n",
       "rideable_type            0\n",
       "started_at               0\n",
       "ended_at                 0\n",
       "start_station_name       0\n",
       "start_station_id         0\n",
       "end_station_name      3065\n",
       "end_station_id        3065\n",
       "start_lat                0\n",
       "start_lng                0\n",
       "end_lat               2010\n",
       "end_lng               2010\n",
       "member_casual            0\n",
       "dtype: int64"
      ]
     },
     "execution_count": 9,
     "metadata": {},
     "output_type": "execute_result"
    }
   ],
   "source": [
    "# check for any NA values\n",
    "bike_data_df.isna().sum()"
   ]
  },
  {
   "cell_type": "code",
   "execution_count": 10,
   "metadata": {},
   "outputs": [
    {
     "name": "stdout",
     "output_type": "stream",
     "text": [
      "0.5% of the data is missing\n"
     ]
    }
   ],
   "source": [
    "missing_percent = bike_data_df[bike_data_df.isna().any(1)].count().max()/bike_data_df.shape[0]\n",
    "\n",
    "print(f\"{round(missing_percent*100,2)}% of the data is missing\")"
   ]
  },
  {
   "cell_type": "code",
   "execution_count": 11,
   "metadata": {},
   "outputs": [],
   "source": [
    "#So all the NA values will be removed"
   ]
  },
  {
   "cell_type": "code",
   "execution_count": 12,
   "metadata": {},
   "outputs": [],
   "source": [
    "bike_data_df.dropna(inplace=True)"
   ]
  },
  {
   "cell_type": "code",
   "execution_count": 13,
   "metadata": {},
   "outputs": [
    {
     "data": {
      "text/plain": [
       "ride_id               0\n",
       "rideable_type         0\n",
       "started_at            0\n",
       "ended_at              0\n",
       "start_station_name    0\n",
       "start_station_id      0\n",
       "end_station_name      0\n",
       "end_station_id        0\n",
       "start_lat             0\n",
       "start_lng             0\n",
       "end_lat               0\n",
       "end_lng               0\n",
       "member_casual         0\n",
       "dtype: int64"
      ]
     },
     "execution_count": 13,
     "metadata": {},
     "output_type": "execute_result"
    }
   ],
   "source": [
    "bike_data_df.isna().sum()"
   ]
  },
  {
   "cell_type": "code",
   "execution_count": 14,
   "metadata": {},
   "outputs": [
    {
     "data": {
      "text/plain": [
       "(604964, 13)"
      ]
     },
     "execution_count": 14,
     "metadata": {},
     "output_type": "execute_result"
    }
   ],
   "source": [
    "bike_data_df.shape"
   ]
  },
  {
   "cell_type": "code",
   "execution_count": 15,
   "metadata": {},
   "outputs": [],
   "source": [
    "#Split start_date into start_year/month/day/hour and end_date into end_year/month/day/hour and start_date/end_date"
   ]
  },
  {
   "cell_type": "code",
   "execution_count": 16,
   "metadata": {},
   "outputs": [],
   "source": [
    "bike_data_df[[\"Start_Year\",\"Start_Month\",\"Start_Day\"]]=bike_data_df[\"started_at\"].str.split(\"-\",expand = True)"
   ]
  },
  {
   "cell_type": "code",
   "execution_count": 17,
   "metadata": {},
   "outputs": [],
   "source": [
    "bike_data_df[[\"Start_Day\",\"Start_Time\"]] = bike_data_df[\"Start_Day\"].str.split(\" \",expand=True)"
   ]
  },
  {
   "cell_type": "code",
   "execution_count": 18,
   "metadata": {},
   "outputs": [],
   "source": [
    "bike_data_df[[\"Start_Hour\",\"Start_Minute\",\"Start_Second\"]] = bike_data_df[\"Start_Time\"].str.split(\":\",expand=True)"
   ]
  },
  {
   "cell_type": "code",
   "execution_count": 19,
   "metadata": {},
   "outputs": [],
   "source": [
    "bike_data_df[[\"End_Year\",\"End_Month\",\"End_Day\"]]=bike_data_df[\"ended_at\"].str.split(\"-\",expand = True)"
   ]
  },
  {
   "cell_type": "code",
   "execution_count": 20,
   "metadata": {},
   "outputs": [],
   "source": [
    "bike_data_df[[\"End_Day\",\"End_Time\"]] = bike_data_df[\"End_Day\"].str.split(\" \",expand=True)"
   ]
  },
  {
   "cell_type": "code",
   "execution_count": 21,
   "metadata": {},
   "outputs": [],
   "source": [
    "bike_data_df[[\"End_Hour\",\"End_Minute\",\"End_Second\"]] = bike_data_df[\"End_Time\"].str.split(\":\",expand=True)"
   ]
  },
  {
   "cell_type": "code",
   "execution_count": 22,
   "metadata": {},
   "outputs": [],
   "source": [
    "bike_data_df[\"Start_date\"] = bike_data_df[\"Start_Year\"].str.cat(bike_data_df[\"Start_Month\"].str.cat(bike_data_df[\"Start_Day\"],sep=\"/\"),sep=\"/\")"
   ]
  },
  {
   "cell_type": "code",
   "execution_count": 23,
   "metadata": {},
   "outputs": [],
   "source": [
    "bike_data_df[\"End_date\"] = bike_data_df[\"End_Year\"].str.cat(bike_data_df[\"End_Month\"].str.cat(bike_data_df[\"End_Day\"],sep=\"/\"),sep=\"/\")"
   ]
  },
  {
   "cell_type": "code",
   "execution_count": 24,
   "metadata": {},
   "outputs": [],
   "source": [
    "# add ride duration column"
   ]
  },
  {
   "cell_type": "code",
   "execution_count": 25,
   "metadata": {},
   "outputs": [
    {
     "data": {
      "text/plain": [
       "0        2021-07-31 14:47:00\n",
       "1        2021-07-17 19:20:07\n",
       "2        2021-07-08 20:43:06\n",
       "3        2021-07-18 20:28:23\n",
       "4        2021-07-08 18:24:48\n",
       "                 ...        \n",
       "608024   2021-03-29 19:38:10\n",
       "608025   2021-03-12 18:54:35\n",
       "608026   2021-03-28 12:34:40\n",
       "608027   2021-03-23 13:10:25\n",
       "608028   2021-03-24 10:21:17\n",
       "Name: ended_at, Length: 604964, dtype: datetime64[ns]"
      ]
     },
     "execution_count": 25,
     "metadata": {},
     "output_type": "execute_result"
    }
   ],
   "source": [
    "start = pd.to_datetime(bike_data_df[\"started_at\"],format = \"%Y-%m-%d %H:%M:%S\")\n",
    "end = pd.to_datetime(bike_data_df[\"ended_at\"],format = \"%Y-%m-%d %H:%M:%S\")\n",
    "end"
   ]
  },
  {
   "cell_type": "code",
   "execution_count": 26,
   "metadata": {},
   "outputs": [],
   "source": [
    "bike_data_df[\"Ride Duration\"] = end-start"
   ]
  },
  {
   "cell_type": "code",
   "execution_count": 27,
   "metadata": {},
   "outputs": [],
   "source": [
    "bike_data_df[\"Ride Duration Seconds\"] = round(bike_data_df[\"Ride Duration\"]/pd.Timedelta(seconds = 1))"
   ]
  },
  {
   "cell_type": "code",
   "execution_count": 28,
   "metadata": {},
   "outputs": [],
   "source": [
    "bike_data_df[\"Ride Duration Mins\"]= round(bike_data_df[\"Ride Duration\"]/pd.Timedelta(minutes = 1))"
   ]
  },
  {
   "cell_type": "code",
   "execution_count": 29,
   "metadata": {},
   "outputs": [],
   "source": [
    "bike_data_df[\"Ride Duration Hours\"] = round(bike_data_df[\"Ride Duration\"]/pd.Timedelta(hours = 1),2)"
   ]
  },
  {
   "cell_type": "code",
   "execution_count": 30,
   "metadata": {},
   "outputs": [],
   "source": [
    "bike_data_df[\"Ride Duration Days\"] = round(bike_data_df[\"Ride Duration\"]/pd.Timedelta(days = 1),2)"
   ]
  },
  {
   "cell_type": "code",
   "execution_count": 31,
   "metadata": {},
   "outputs": [],
   "source": [
    "# remove duration less than 0, as duration can not be negative\n",
    "bike_data_df = bike_data_df[bike_data_df[\"Ride Duration Seconds\"] > 0]"
   ]
  },
  {
   "cell_type": "code",
   "execution_count": 32,
   "metadata": {},
   "outputs": [],
   "source": [
    "# remove duration (day) more than 1, as it is assumed people do not ride for more than 1 whole day\n",
    "\n",
    "bike_data_df = bike_data_df[bike_data_df[\"Ride Duration Days\"] < 1]"
   ]
  },
  {
   "cell_type": "code",
   "execution_count": 33,
   "metadata": {},
   "outputs": [
    {
     "data": {
      "text/html": [
       "<div>\n",
       "<style scoped>\n",
       "    .dataframe tbody tr th:only-of-type {\n",
       "        vertical-align: middle;\n",
       "    }\n",
       "\n",
       "    .dataframe tbody tr th {\n",
       "        vertical-align: top;\n",
       "    }\n",
       "\n",
       "    .dataframe thead th {\n",
       "        text-align: right;\n",
       "    }\n",
       "</style>\n",
       "<table border=\"1\" class=\"dataframe\">\n",
       "  <thead>\n",
       "    <tr style=\"text-align: right;\">\n",
       "      <th></th>\n",
       "      <th>ride_id</th>\n",
       "      <th>rideable_type</th>\n",
       "      <th>started_at</th>\n",
       "      <th>ended_at</th>\n",
       "      <th>start_station_name</th>\n",
       "      <th>start_station_id</th>\n",
       "      <th>end_station_name</th>\n",
       "      <th>end_station_id</th>\n",
       "      <th>start_lat</th>\n",
       "      <th>start_lng</th>\n",
       "      <th>...</th>\n",
       "      <th>End_Hour</th>\n",
       "      <th>End_Minute</th>\n",
       "      <th>End_Second</th>\n",
       "      <th>Start_date</th>\n",
       "      <th>End_date</th>\n",
       "      <th>Ride Duration</th>\n",
       "      <th>Ride Duration Seconds</th>\n",
       "      <th>Ride Duration Mins</th>\n",
       "      <th>Ride Duration Hours</th>\n",
       "      <th>Ride Duration Days</th>\n",
       "    </tr>\n",
       "  </thead>\n",
       "  <tbody>\n",
       "    <tr>\n",
       "      <th>0</th>\n",
       "      <td>2F01C15ECE379AE7</td>\n",
       "      <td>classic_bike</td>\n",
       "      <td>2021-07-31 13:53:26</td>\n",
       "      <td>2021-07-31 14:47:00</td>\n",
       "      <td>Bergen Ave &amp; Stegman St</td>\n",
       "      <td>JC108</td>\n",
       "      <td>South Waterfront Walkway - Sinatra Dr &amp; 1 St</td>\n",
       "      <td>HB103</td>\n",
       "      <td>40.706575</td>\n",
       "      <td>-74.086701</td>\n",
       "      <td>...</td>\n",
       "      <td>14</td>\n",
       "      <td>47</td>\n",
       "      <td>00</td>\n",
       "      <td>2021/07/31</td>\n",
       "      <td>2021/07/31</td>\n",
       "      <td>0 days 00:53:34</td>\n",
       "      <td>3214.0</td>\n",
       "      <td>54.0</td>\n",
       "      <td>0.89</td>\n",
       "      <td>0.04</td>\n",
       "    </tr>\n",
       "    <tr>\n",
       "      <th>1</th>\n",
       "      <td>CF7E2039ACB179C2</td>\n",
       "      <td>classic_bike</td>\n",
       "      <td>2021-07-17 19:06:01</td>\n",
       "      <td>2021-07-17 19:20:07</td>\n",
       "      <td>Bergen Ave &amp; Stegman St</td>\n",
       "      <td>JC108</td>\n",
       "      <td>Baldwin at Montgomery</td>\n",
       "      <td>JC020</td>\n",
       "      <td>40.706575</td>\n",
       "      <td>-74.086701</td>\n",
       "      <td>...</td>\n",
       "      <td>19</td>\n",
       "      <td>20</td>\n",
       "      <td>07</td>\n",
       "      <td>2021/07/17</td>\n",
       "      <td>2021/07/17</td>\n",
       "      <td>0 days 00:14:06</td>\n",
       "      <td>846.0</td>\n",
       "      <td>14.0</td>\n",
       "      <td>0.24</td>\n",
       "      <td>0.01</td>\n",
       "    </tr>\n",
       "    <tr>\n",
       "      <th>2</th>\n",
       "      <td>9375052379DE50FC</td>\n",
       "      <td>classic_bike</td>\n",
       "      <td>2021-07-08 19:54:34</td>\n",
       "      <td>2021-07-08 20:43:06</td>\n",
       "      <td>Columbus Dr at Exchange Pl</td>\n",
       "      <td>JC106</td>\n",
       "      <td>Liberty Light Rail</td>\n",
       "      <td>JC052</td>\n",
       "      <td>40.716870</td>\n",
       "      <td>-74.032810</td>\n",
       "      <td>...</td>\n",
       "      <td>20</td>\n",
       "      <td>43</td>\n",
       "      <td>06</td>\n",
       "      <td>2021/07/08</td>\n",
       "      <td>2021/07/08</td>\n",
       "      <td>0 days 00:48:32</td>\n",
       "      <td>2912.0</td>\n",
       "      <td>49.0</td>\n",
       "      <td>0.81</td>\n",
       "      <td>0.03</td>\n",
       "    </tr>\n",
       "    <tr>\n",
       "      <th>3</th>\n",
       "      <td>EF77D67D538E108E</td>\n",
       "      <td>classic_bike</td>\n",
       "      <td>2021-07-18 20:21:15</td>\n",
       "      <td>2021-07-18 20:28:23</td>\n",
       "      <td>Columbus Dr at Exchange Pl</td>\n",
       "      <td>JC106</td>\n",
       "      <td>Warren St</td>\n",
       "      <td>JC006</td>\n",
       "      <td>40.716870</td>\n",
       "      <td>-74.032810</td>\n",
       "      <td>...</td>\n",
       "      <td>20</td>\n",
       "      <td>28</td>\n",
       "      <td>23</td>\n",
       "      <td>2021/07/18</td>\n",
       "      <td>2021/07/18</td>\n",
       "      <td>0 days 00:07:08</td>\n",
       "      <td>428.0</td>\n",
       "      <td>7.0</td>\n",
       "      <td>0.12</td>\n",
       "      <td>0.00</td>\n",
       "    </tr>\n",
       "    <tr>\n",
       "      <th>4</th>\n",
       "      <td>3550C64E6994B8BC</td>\n",
       "      <td>classic_bike</td>\n",
       "      <td>2021-07-08 18:19:07</td>\n",
       "      <td>2021-07-08 18:24:48</td>\n",
       "      <td>Columbus Dr at Exchange Pl</td>\n",
       "      <td>JC106</td>\n",
       "      <td>Warren St</td>\n",
       "      <td>JC006</td>\n",
       "      <td>40.716870</td>\n",
       "      <td>-74.032810</td>\n",
       "      <td>...</td>\n",
       "      <td>18</td>\n",
       "      <td>24</td>\n",
       "      <td>48</td>\n",
       "      <td>2021/07/08</td>\n",
       "      <td>2021/07/08</td>\n",
       "      <td>0 days 00:05:41</td>\n",
       "      <td>341.0</td>\n",
       "      <td>6.0</td>\n",
       "      <td>0.09</td>\n",
       "      <td>0.00</td>\n",
       "    </tr>\n",
       "  </tbody>\n",
       "</table>\n",
       "<p>5 rows × 34 columns</p>\n",
       "</div>"
      ],
      "text/plain": [
       "            ride_id rideable_type           started_at             ended_at  \\\n",
       "0  2F01C15ECE379AE7  classic_bike  2021-07-31 13:53:26  2021-07-31 14:47:00   \n",
       "1  CF7E2039ACB179C2  classic_bike  2021-07-17 19:06:01  2021-07-17 19:20:07   \n",
       "2  9375052379DE50FC  classic_bike  2021-07-08 19:54:34  2021-07-08 20:43:06   \n",
       "3  EF77D67D538E108E  classic_bike  2021-07-18 20:21:15  2021-07-18 20:28:23   \n",
       "4  3550C64E6994B8BC  classic_bike  2021-07-08 18:19:07  2021-07-08 18:24:48   \n",
       "\n",
       "           start_station_name start_station_id  \\\n",
       "0     Bergen Ave & Stegman St            JC108   \n",
       "1     Bergen Ave & Stegman St            JC108   \n",
       "2  Columbus Dr at Exchange Pl            JC106   \n",
       "3  Columbus Dr at Exchange Pl            JC106   \n",
       "4  Columbus Dr at Exchange Pl            JC106   \n",
       "\n",
       "                               end_station_name end_station_id  start_lat  \\\n",
       "0  South Waterfront Walkway - Sinatra Dr & 1 St          HB103  40.706575   \n",
       "1                         Baldwin at Montgomery          JC020  40.706575   \n",
       "2                            Liberty Light Rail          JC052  40.716870   \n",
       "3                                     Warren St          JC006  40.716870   \n",
       "4                                     Warren St          JC006  40.716870   \n",
       "\n",
       "   start_lng  ...  End_Hour  End_Minute End_Second  Start_date    End_date  \\\n",
       "0 -74.086701  ...        14          47         00  2021/07/31  2021/07/31   \n",
       "1 -74.086701  ...        19          20         07  2021/07/17  2021/07/17   \n",
       "2 -74.032810  ...        20          43         06  2021/07/08  2021/07/08   \n",
       "3 -74.032810  ...        20          28         23  2021/07/18  2021/07/18   \n",
       "4 -74.032810  ...        18          24         48  2021/07/08  2021/07/08   \n",
       "\n",
       "    Ride Duration Ride Duration Seconds Ride Duration Mins  \\\n",
       "0 0 days 00:53:34                3214.0               54.0   \n",
       "1 0 days 00:14:06                 846.0               14.0   \n",
       "2 0 days 00:48:32                2912.0               49.0   \n",
       "3 0 days 00:07:08                 428.0                7.0   \n",
       "4 0 days 00:05:41                 341.0                6.0   \n",
       "\n",
       "  Ride Duration Hours Ride Duration Days  \n",
       "0                0.89               0.04  \n",
       "1                0.24               0.01  \n",
       "2                0.81               0.03  \n",
       "3                0.12               0.00  \n",
       "4                0.09               0.00  \n",
       "\n",
       "[5 rows x 34 columns]"
      ]
     },
     "execution_count": 33,
     "metadata": {},
     "output_type": "execute_result"
    }
   ],
   "source": [
    "bike_data_df.head()"
   ]
  },
  {
   "cell_type": "code",
   "execution_count": 34,
   "metadata": {},
   "outputs": [],
   "source": [
    "bike_data_df.to_csv(\"Data/Final_Data/bike_march_dec_2021.csv\",index=False)"
   ]
  },
  {
   "cell_type": "code",
   "execution_count": 35,
   "metadata": {},
   "outputs": [],
   "source": [
    "#create test data set so it does not take a while to load\n",
    "# this picks random rows from the full data"
   ]
  },
  {
   "cell_type": "code",
   "execution_count": 36,
   "metadata": {},
   "outputs": [],
   "source": [
    "test_data = bike_data_df.sample(n =round(bike_data_df.shape[0]/10))"
   ]
  },
  {
   "cell_type": "code",
   "execution_count": 37,
   "metadata": {},
   "outputs": [],
   "source": [
    "test_data.to_csv(\"Data/Final_Data/test_data.csv\",index =False)"
   ]
  },
  {
   "cell_type": "code",
   "execution_count": 38,
   "metadata": {},
   "outputs": [],
   "source": [
    "bdf = pd.read_csv(\"Data/Final_Data/bike_march_dec_2021.csv\")"
   ]
  },
  {
   "cell_type": "code",
   "execution_count": 39,
   "metadata": {},
   "outputs": [
    {
     "data": {
      "text/html": [
       "<div>\n",
       "<style scoped>\n",
       "    .dataframe tbody tr th:only-of-type {\n",
       "        vertical-align: middle;\n",
       "    }\n",
       "\n",
       "    .dataframe tbody tr th {\n",
       "        vertical-align: top;\n",
       "    }\n",
       "\n",
       "    .dataframe thead th {\n",
       "        text-align: right;\n",
       "    }\n",
       "</style>\n",
       "<table border=\"1\" class=\"dataframe\">\n",
       "  <thead>\n",
       "    <tr style=\"text-align: right;\">\n",
       "      <th></th>\n",
       "      <th>ride_id</th>\n",
       "      <th>rideable_type</th>\n",
       "      <th>started_at</th>\n",
       "      <th>ended_at</th>\n",
       "      <th>start_station_name</th>\n",
       "      <th>start_station_id</th>\n",
       "      <th>end_station_name</th>\n",
       "      <th>end_station_id</th>\n",
       "      <th>start_lat</th>\n",
       "      <th>start_lng</th>\n",
       "      <th>...</th>\n",
       "      <th>End_Hour</th>\n",
       "      <th>End_Minute</th>\n",
       "      <th>End_Second</th>\n",
       "      <th>Start_date</th>\n",
       "      <th>End_date</th>\n",
       "      <th>Ride Duration</th>\n",
       "      <th>Ride Duration Seconds</th>\n",
       "      <th>Ride Duration Mins</th>\n",
       "      <th>Ride Duration Hours</th>\n",
       "      <th>Ride Duration Days</th>\n",
       "    </tr>\n",
       "  </thead>\n",
       "  <tbody>\n",
       "    <tr>\n",
       "      <th>0</th>\n",
       "      <td>2F01C15ECE379AE7</td>\n",
       "      <td>classic_bike</td>\n",
       "      <td>2021-07-31 13:53:26</td>\n",
       "      <td>2021-07-31 14:47:00</td>\n",
       "      <td>Bergen Ave &amp; Stegman St</td>\n",
       "      <td>JC108</td>\n",
       "      <td>South Waterfront Walkway - Sinatra Dr &amp; 1 St</td>\n",
       "      <td>HB103</td>\n",
       "      <td>40.706575</td>\n",
       "      <td>-74.086701</td>\n",
       "      <td>...</td>\n",
       "      <td>14</td>\n",
       "      <td>47</td>\n",
       "      <td>0.0</td>\n",
       "      <td>2021/07/31</td>\n",
       "      <td>2021/07/31</td>\n",
       "      <td>0 days 00:53:34</td>\n",
       "      <td>3214.0</td>\n",
       "      <td>54.0</td>\n",
       "      <td>0.89</td>\n",
       "      <td>0.04</td>\n",
       "    </tr>\n",
       "    <tr>\n",
       "      <th>1</th>\n",
       "      <td>CF7E2039ACB179C2</td>\n",
       "      <td>classic_bike</td>\n",
       "      <td>2021-07-17 19:06:01</td>\n",
       "      <td>2021-07-17 19:20:07</td>\n",
       "      <td>Bergen Ave &amp; Stegman St</td>\n",
       "      <td>JC108</td>\n",
       "      <td>Baldwin at Montgomery</td>\n",
       "      <td>JC020</td>\n",
       "      <td>40.706575</td>\n",
       "      <td>-74.086701</td>\n",
       "      <td>...</td>\n",
       "      <td>19</td>\n",
       "      <td>20</td>\n",
       "      <td>7.0</td>\n",
       "      <td>2021/07/17</td>\n",
       "      <td>2021/07/17</td>\n",
       "      <td>0 days 00:14:06</td>\n",
       "      <td>846.0</td>\n",
       "      <td>14.0</td>\n",
       "      <td>0.24</td>\n",
       "      <td>0.01</td>\n",
       "    </tr>\n",
       "    <tr>\n",
       "      <th>2</th>\n",
       "      <td>9375052379DE50FC</td>\n",
       "      <td>classic_bike</td>\n",
       "      <td>2021-07-08 19:54:34</td>\n",
       "      <td>2021-07-08 20:43:06</td>\n",
       "      <td>Columbus Dr at Exchange Pl</td>\n",
       "      <td>JC106</td>\n",
       "      <td>Liberty Light Rail</td>\n",
       "      <td>JC052</td>\n",
       "      <td>40.716870</td>\n",
       "      <td>-74.032810</td>\n",
       "      <td>...</td>\n",
       "      <td>20</td>\n",
       "      <td>43</td>\n",
       "      <td>6.0</td>\n",
       "      <td>2021/07/08</td>\n",
       "      <td>2021/07/08</td>\n",
       "      <td>0 days 00:48:32</td>\n",
       "      <td>2912.0</td>\n",
       "      <td>49.0</td>\n",
       "      <td>0.81</td>\n",
       "      <td>0.03</td>\n",
       "    </tr>\n",
       "    <tr>\n",
       "      <th>3</th>\n",
       "      <td>EF77D67D538E108E</td>\n",
       "      <td>classic_bike</td>\n",
       "      <td>2021-07-18 20:21:15</td>\n",
       "      <td>2021-07-18 20:28:23</td>\n",
       "      <td>Columbus Dr at Exchange Pl</td>\n",
       "      <td>JC106</td>\n",
       "      <td>Warren St</td>\n",
       "      <td>JC006</td>\n",
       "      <td>40.716870</td>\n",
       "      <td>-74.032810</td>\n",
       "      <td>...</td>\n",
       "      <td>20</td>\n",
       "      <td>28</td>\n",
       "      <td>23.0</td>\n",
       "      <td>2021/07/18</td>\n",
       "      <td>2021/07/18</td>\n",
       "      <td>0 days 00:07:08</td>\n",
       "      <td>428.0</td>\n",
       "      <td>7.0</td>\n",
       "      <td>0.12</td>\n",
       "      <td>0.00</td>\n",
       "    </tr>\n",
       "    <tr>\n",
       "      <th>4</th>\n",
       "      <td>3550C64E6994B8BC</td>\n",
       "      <td>classic_bike</td>\n",
       "      <td>2021-07-08 18:19:07</td>\n",
       "      <td>2021-07-08 18:24:48</td>\n",
       "      <td>Columbus Dr at Exchange Pl</td>\n",
       "      <td>JC106</td>\n",
       "      <td>Warren St</td>\n",
       "      <td>JC006</td>\n",
       "      <td>40.716870</td>\n",
       "      <td>-74.032810</td>\n",
       "      <td>...</td>\n",
       "      <td>18</td>\n",
       "      <td>24</td>\n",
       "      <td>48.0</td>\n",
       "      <td>2021/07/08</td>\n",
       "      <td>2021/07/08</td>\n",
       "      <td>0 days 00:05:41</td>\n",
       "      <td>341.0</td>\n",
       "      <td>6.0</td>\n",
       "      <td>0.09</td>\n",
       "      <td>0.00</td>\n",
       "    </tr>\n",
       "  </tbody>\n",
       "</table>\n",
       "<p>5 rows × 34 columns</p>\n",
       "</div>"
      ],
      "text/plain": [
       "            ride_id rideable_type           started_at             ended_at  \\\n",
       "0  2F01C15ECE379AE7  classic_bike  2021-07-31 13:53:26  2021-07-31 14:47:00   \n",
       "1  CF7E2039ACB179C2  classic_bike  2021-07-17 19:06:01  2021-07-17 19:20:07   \n",
       "2  9375052379DE50FC  classic_bike  2021-07-08 19:54:34  2021-07-08 20:43:06   \n",
       "3  EF77D67D538E108E  classic_bike  2021-07-18 20:21:15  2021-07-18 20:28:23   \n",
       "4  3550C64E6994B8BC  classic_bike  2021-07-08 18:19:07  2021-07-08 18:24:48   \n",
       "\n",
       "           start_station_name start_station_id  \\\n",
       "0     Bergen Ave & Stegman St            JC108   \n",
       "1     Bergen Ave & Stegman St            JC108   \n",
       "2  Columbus Dr at Exchange Pl            JC106   \n",
       "3  Columbus Dr at Exchange Pl            JC106   \n",
       "4  Columbus Dr at Exchange Pl            JC106   \n",
       "\n",
       "                               end_station_name end_station_id  start_lat  \\\n",
       "0  South Waterfront Walkway - Sinatra Dr & 1 St          HB103  40.706575   \n",
       "1                         Baldwin at Montgomery          JC020  40.706575   \n",
       "2                            Liberty Light Rail          JC052  40.716870   \n",
       "3                                     Warren St          JC006  40.716870   \n",
       "4                                     Warren St          JC006  40.716870   \n",
       "\n",
       "   start_lng  ...  End_Hour  End_Minute End_Second  Start_date    End_date  \\\n",
       "0 -74.086701  ...        14          47        0.0  2021/07/31  2021/07/31   \n",
       "1 -74.086701  ...        19          20        7.0  2021/07/17  2021/07/17   \n",
       "2 -74.032810  ...        20          43        6.0  2021/07/08  2021/07/08   \n",
       "3 -74.032810  ...        20          28       23.0  2021/07/18  2021/07/18   \n",
       "4 -74.032810  ...        18          24       48.0  2021/07/08  2021/07/08   \n",
       "\n",
       "     Ride Duration Ride Duration Seconds  Ride Duration Mins  \\\n",
       "0  0 days 00:53:34                3214.0                54.0   \n",
       "1  0 days 00:14:06                 846.0                14.0   \n",
       "2  0 days 00:48:32                2912.0                49.0   \n",
       "3  0 days 00:07:08                 428.0                 7.0   \n",
       "4  0 days 00:05:41                 341.0                 6.0   \n",
       "\n",
       "   Ride Duration Hours  Ride Duration Days  \n",
       "0                 0.89                0.04  \n",
       "1                 0.24                0.01  \n",
       "2                 0.81                0.03  \n",
       "3                 0.12                0.00  \n",
       "4                 0.09                0.00  \n",
       "\n",
       "[5 rows x 34 columns]"
      ]
     },
     "execution_count": 39,
     "metadata": {},
     "output_type": "execute_result"
    }
   ],
   "source": [
    "bdf.head()"
   ]
  },
  {
   "cell_type": "code",
   "execution_count": 40,
   "metadata": {},
   "outputs": [],
   "source": [
    "tdf = pd.read_csv(\"Data/Final_Data/test_data.csv\")"
   ]
  },
  {
   "cell_type": "code",
   "execution_count": 41,
   "metadata": {},
   "outputs": [
    {
     "data": {
      "text/html": [
       "<div>\n",
       "<style scoped>\n",
       "    .dataframe tbody tr th:only-of-type {\n",
       "        vertical-align: middle;\n",
       "    }\n",
       "\n",
       "    .dataframe tbody tr th {\n",
       "        vertical-align: top;\n",
       "    }\n",
       "\n",
       "    .dataframe thead th {\n",
       "        text-align: right;\n",
       "    }\n",
       "</style>\n",
       "<table border=\"1\" class=\"dataframe\">\n",
       "  <thead>\n",
       "    <tr style=\"text-align: right;\">\n",
       "      <th></th>\n",
       "      <th>ride_id</th>\n",
       "      <th>rideable_type</th>\n",
       "      <th>started_at</th>\n",
       "      <th>ended_at</th>\n",
       "      <th>start_station_name</th>\n",
       "      <th>start_station_id</th>\n",
       "      <th>end_station_name</th>\n",
       "      <th>end_station_id</th>\n",
       "      <th>start_lat</th>\n",
       "      <th>start_lng</th>\n",
       "      <th>...</th>\n",
       "      <th>End_Hour</th>\n",
       "      <th>End_Minute</th>\n",
       "      <th>End_Second</th>\n",
       "      <th>Start_date</th>\n",
       "      <th>End_date</th>\n",
       "      <th>Ride Duration</th>\n",
       "      <th>Ride Duration Seconds</th>\n",
       "      <th>Ride Duration Mins</th>\n",
       "      <th>Ride Duration Hours</th>\n",
       "      <th>Ride Duration Days</th>\n",
       "    </tr>\n",
       "  </thead>\n",
       "  <tbody>\n",
       "    <tr>\n",
       "      <th>0</th>\n",
       "      <td>C9E8CA08DD1E517D</td>\n",
       "      <td>classic_bike</td>\n",
       "      <td>2021-07-11 02:50:41</td>\n",
       "      <td>2021-07-11 03:55:54</td>\n",
       "      <td>Bloomfield St &amp; 15 St</td>\n",
       "      <td>HB203</td>\n",
       "      <td>Bloomfield St &amp; 15 St</td>\n",
       "      <td>HB203</td>\n",
       "      <td>40.754530</td>\n",
       "      <td>-74.026580</td>\n",
       "      <td>...</td>\n",
       "      <td>3</td>\n",
       "      <td>55</td>\n",
       "      <td>54.0</td>\n",
       "      <td>2021/07/11</td>\n",
       "      <td>2021/07/11</td>\n",
       "      <td>0 days 01:05:13</td>\n",
       "      <td>3913.0</td>\n",
       "      <td>65.0</td>\n",
       "      <td>1.09</td>\n",
       "      <td>0.05</td>\n",
       "    </tr>\n",
       "    <tr>\n",
       "      <th>1</th>\n",
       "      <td>9B9095212DFF1EB9</td>\n",
       "      <td>classic_bike</td>\n",
       "      <td>2021-11-09 10:23:58</td>\n",
       "      <td>2021-11-09 10:26:57</td>\n",
       "      <td>Sip Ave</td>\n",
       "      <td>JC056</td>\n",
       "      <td>McGinley Square</td>\n",
       "      <td>JC055</td>\n",
       "      <td>40.730897</td>\n",
       "      <td>-74.063913</td>\n",
       "      <td>...</td>\n",
       "      <td>10</td>\n",
       "      <td>26</td>\n",
       "      <td>57.0</td>\n",
       "      <td>2021/11/09</td>\n",
       "      <td>2021/11/09</td>\n",
       "      <td>0 days 00:02:59</td>\n",
       "      <td>179.0</td>\n",
       "      <td>3.0</td>\n",
       "      <td>0.05</td>\n",
       "      <td>0.00</td>\n",
       "    </tr>\n",
       "    <tr>\n",
       "      <th>2</th>\n",
       "      <td>2CE214C0C6C0CADC</td>\n",
       "      <td>classic_bike</td>\n",
       "      <td>2021-09-06 17:36:15</td>\n",
       "      <td>2021-09-06 17:58:50</td>\n",
       "      <td>Hamilton Park</td>\n",
       "      <td>JC009</td>\n",
       "      <td>Hamilton Park</td>\n",
       "      <td>JC009</td>\n",
       "      <td>40.727596</td>\n",
       "      <td>-74.044247</td>\n",
       "      <td>...</td>\n",
       "      <td>17</td>\n",
       "      <td>58</td>\n",
       "      <td>50.0</td>\n",
       "      <td>2021/09/06</td>\n",
       "      <td>2021/09/06</td>\n",
       "      <td>0 days 00:22:35</td>\n",
       "      <td>1355.0</td>\n",
       "      <td>23.0</td>\n",
       "      <td>0.38</td>\n",
       "      <td>0.02</td>\n",
       "    </tr>\n",
       "    <tr>\n",
       "      <th>3</th>\n",
       "      <td>946828769516324B</td>\n",
       "      <td>classic_bike</td>\n",
       "      <td>2021-09-20 16:51:00</td>\n",
       "      <td>2021-09-20 16:59:17</td>\n",
       "      <td>6 St &amp; Grand St</td>\n",
       "      <td>HB302</td>\n",
       "      <td>Hoboken Terminal - Hudson St &amp; Hudson Pl</td>\n",
       "      <td>HB101</td>\n",
       "      <td>40.744398</td>\n",
       "      <td>-74.034501</td>\n",
       "      <td>...</td>\n",
       "      <td>16</td>\n",
       "      <td>59</td>\n",
       "      <td>17.0</td>\n",
       "      <td>2021/09/20</td>\n",
       "      <td>2021/09/20</td>\n",
       "      <td>0 days 00:08:17</td>\n",
       "      <td>497.0</td>\n",
       "      <td>8.0</td>\n",
       "      <td>0.14</td>\n",
       "      <td>0.01</td>\n",
       "    </tr>\n",
       "    <tr>\n",
       "      <th>4</th>\n",
       "      <td>483BD201ABEAA3A8</td>\n",
       "      <td>classic_bike</td>\n",
       "      <td>2021-11-13 00:28:59</td>\n",
       "      <td>2021-11-13 00:31:02</td>\n",
       "      <td>Newark Ave</td>\n",
       "      <td>JC032</td>\n",
       "      <td>Jersey &amp; 6th St</td>\n",
       "      <td>JC027</td>\n",
       "      <td>40.721525</td>\n",
       "      <td>-74.046305</td>\n",
       "      <td>...</td>\n",
       "      <td>0</td>\n",
       "      <td>31</td>\n",
       "      <td>2.0</td>\n",
       "      <td>2021/11/13</td>\n",
       "      <td>2021/11/13</td>\n",
       "      <td>0 days 00:02:03</td>\n",
       "      <td>123.0</td>\n",
       "      <td>2.0</td>\n",
       "      <td>0.03</td>\n",
       "      <td>0.00</td>\n",
       "    </tr>\n",
       "  </tbody>\n",
       "</table>\n",
       "<p>5 rows × 34 columns</p>\n",
       "</div>"
      ],
      "text/plain": [
       "            ride_id rideable_type           started_at             ended_at  \\\n",
       "0  C9E8CA08DD1E517D  classic_bike  2021-07-11 02:50:41  2021-07-11 03:55:54   \n",
       "1  9B9095212DFF1EB9  classic_bike  2021-11-09 10:23:58  2021-11-09 10:26:57   \n",
       "2  2CE214C0C6C0CADC  classic_bike  2021-09-06 17:36:15  2021-09-06 17:58:50   \n",
       "3  946828769516324B  classic_bike  2021-09-20 16:51:00  2021-09-20 16:59:17   \n",
       "4  483BD201ABEAA3A8  classic_bike  2021-11-13 00:28:59  2021-11-13 00:31:02   \n",
       "\n",
       "      start_station_name start_station_id  \\\n",
       "0  Bloomfield St & 15 St            HB203   \n",
       "1                Sip Ave            JC056   \n",
       "2          Hamilton Park            JC009   \n",
       "3        6 St & Grand St            HB302   \n",
       "4             Newark Ave            JC032   \n",
       "\n",
       "                           end_station_name end_station_id  start_lat  \\\n",
       "0                     Bloomfield St & 15 St          HB203  40.754530   \n",
       "1                           McGinley Square          JC055  40.730897   \n",
       "2                             Hamilton Park          JC009  40.727596   \n",
       "3  Hoboken Terminal - Hudson St & Hudson Pl          HB101  40.744398   \n",
       "4                           Jersey & 6th St          JC027  40.721525   \n",
       "\n",
       "   start_lng  ...  End_Hour  End_Minute End_Second  Start_date    End_date  \\\n",
       "0 -74.026580  ...         3          55       54.0  2021/07/11  2021/07/11   \n",
       "1 -74.063913  ...        10          26       57.0  2021/11/09  2021/11/09   \n",
       "2 -74.044247  ...        17          58       50.0  2021/09/06  2021/09/06   \n",
       "3 -74.034501  ...        16          59       17.0  2021/09/20  2021/09/20   \n",
       "4 -74.046305  ...         0          31        2.0  2021/11/13  2021/11/13   \n",
       "\n",
       "     Ride Duration Ride Duration Seconds  Ride Duration Mins  \\\n",
       "0  0 days 01:05:13                3913.0                65.0   \n",
       "1  0 days 00:02:59                 179.0                 3.0   \n",
       "2  0 days 00:22:35                1355.0                23.0   \n",
       "3  0 days 00:08:17                 497.0                 8.0   \n",
       "4  0 days 00:02:03                 123.0                 2.0   \n",
       "\n",
       "   Ride Duration Hours  Ride Duration Days  \n",
       "0                 1.09                0.05  \n",
       "1                 0.05                0.00  \n",
       "2                 0.38                0.02  \n",
       "3                 0.14                0.01  \n",
       "4                 0.03                0.00  \n",
       "\n",
       "[5 rows x 34 columns]"
      ]
     },
     "execution_count": 41,
     "metadata": {},
     "output_type": "execute_result"
    }
   ],
   "source": [
    "tdf.head()"
   ]
  },
  {
   "cell_type": "code",
   "execution_count": 42,
   "metadata": {},
   "outputs": [
    {
     "data": {
      "text/plain": [
       "Index(['ride_id', 'rideable_type', 'started_at', 'ended_at',\n",
       "       'start_station_name', 'start_station_id', 'end_station_name',\n",
       "       'end_station_id', 'start_lat', 'start_lng', 'end_lat', 'end_lng',\n",
       "       'member_casual', 'Start_Year', 'Start_Month', 'Start_Day', 'Start_Time',\n",
       "       'Start_Hour', 'Start_Minute', 'Start_Second', 'End_Year', 'End_Month',\n",
       "       'End_Day', 'End_Time', 'End_Hour', 'End_Minute', 'End_Second',\n",
       "       'Start_date', 'End_date', 'Ride Duration', 'Ride Duration Seconds',\n",
       "       'Ride Duration Mins', 'Ride Duration Hours', 'Ride Duration Days'],\n",
       "      dtype='object')"
      ]
     },
     "execution_count": 42,
     "metadata": {},
     "output_type": "execute_result"
    }
   ],
   "source": [
    "tdf.columns"
   ]
  },
  {
   "cell_type": "code",
   "execution_count": 46,
   "metadata": {},
   "outputs": [
    {
     "data": {
      "text/plain": [
       "array(['casual', 'member'], dtype=object)"
      ]
     },
     "execution_count": 46,
     "metadata": {},
     "output_type": "execute_result"
    }
   ],
   "source": [
    "tdf[\"member_casual\"].unique()"
   ]
  },
  {
   "cell_type": "code",
   "execution_count": null,
   "metadata": {},
   "outputs": [],
   "source": []
  }
 ],
 "metadata": {
  "interpreter": {
   "hash": "aee8b7b246df8f9039afb4144a1f6fd8d2ca17a180786b69acc140d282b71a49"
  },
  "kernelspec": {
   "display_name": "Python 3.9.5 64-bit",
   "language": "python",
   "name": "python3"
  },
  "language_info": {
   "codemirror_mode": {
    "name": "ipython",
    "version": 3
   },
   "file_extension": ".py",
   "mimetype": "text/x-python",
   "name": "python",
   "nbconvert_exporter": "python",
   "pygments_lexer": "ipython3",
   "version": "3.9.5"
  },
  "orig_nbformat": 4
 },
 "nbformat": 4,
 "nbformat_minor": 2
}
