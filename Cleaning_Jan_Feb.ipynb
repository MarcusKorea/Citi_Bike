{
 "cells": [
  {
   "cell_type": "code",
   "execution_count": 1,
   "metadata": {},
   "outputs": [],
   "source": [
    "import pandas as pd"
   ]
  },
  {
   "cell_type": "code",
   "execution_count": 2,
   "metadata": {},
   "outputs": [],
   "source": [
    "# import csv files\n",
    "jan = pd.read_csv(\"Data/JanFeb/Jan_2021.csv\")\n",
    "feb = pd.read_csv(\"Data/JanFeb/Feb_2021.csv\")"
   ]
  },
  {
   "cell_type": "code",
   "execution_count": 3,
   "metadata": {},
   "outputs": [],
   "source": [
    "# concatinate them\n",
    "jan_feb = pd.concat([jan,feb],ignore_index = True)"
   ]
  },
  {
   "cell_type": "code",
   "execution_count": 4,
   "metadata": {},
   "outputs": [
    {
     "data": {
      "text/plain": [
       "Index(['tripduration', 'starttime', 'stoptime', 'start station id',\n",
       "       'start station name', 'start station latitude',\n",
       "       'start station longitude', 'end station id', 'end station name',\n",
       "       'end station latitude', 'end station longitude', 'bikeid', 'usertype',\n",
       "       'birth year', 'gender'],\n",
       "      dtype='object')"
      ]
     },
     "execution_count": 4,
     "metadata": {},
     "output_type": "execute_result"
    }
   ],
   "source": [
    "jan_feb.columns"
   ]
  },
  {
   "cell_type": "code",
   "execution_count": 5,
   "metadata": {},
   "outputs": [],
   "source": [
    "# rename the columns to fit the other datasets\n",
    "jan_feb.rename(columns = {\"starttime\":\"started_at\",\"stoptime\":\"ended_at\",\"start station id\":\"start_station_id\",\"start station name\":\"start_station_name\",\"start station latitude\":\"start_lat\",\"start station longitude\":\"start_lng\",\"end station id\":\"end_station_id\",\"end station name\":\"end_station_name\",\"end station latitude\":\"end_lat\",\"end station longitude\":\"end_lng\"},inplace=True)"
   ]
  },
  {
   "cell_type": "code",
   "execution_count": 6,
   "metadata": {},
   "outputs": [],
   "source": [
    "# drop columns that arent needed\n",
    "jan_feb.drop([\"tripduration\",\"bikeid\",\"birth year\",\"gender\"],axis=1,inplace = True)"
   ]
  },
  {
   "cell_type": "code",
   "execution_count": 7,
   "metadata": {},
   "outputs": [
    {
     "data": {
      "text/html": [
       "<div>\n",
       "<style scoped>\n",
       "    .dataframe tbody tr th:only-of-type {\n",
       "        vertical-align: middle;\n",
       "    }\n",
       "\n",
       "    .dataframe tbody tr th {\n",
       "        vertical-align: top;\n",
       "    }\n",
       "\n",
       "    .dataframe thead th {\n",
       "        text-align: right;\n",
       "    }\n",
       "</style>\n",
       "<table border=\"1\" class=\"dataframe\">\n",
       "  <thead>\n",
       "    <tr style=\"text-align: right;\">\n",
       "      <th></th>\n",
       "      <th>started_at</th>\n",
       "      <th>ended_at</th>\n",
       "      <th>start_station_id</th>\n",
       "      <th>start_station_name</th>\n",
       "      <th>start_lat</th>\n",
       "      <th>start_lng</th>\n",
       "      <th>end_station_id</th>\n",
       "      <th>end_station_name</th>\n",
       "      <th>end_lat</th>\n",
       "      <th>end_lng</th>\n",
       "      <th>usertype</th>\n",
       "    </tr>\n",
       "  </thead>\n",
       "  <tbody>\n",
       "    <tr>\n",
       "      <th>0</th>\n",
       "      <td>2020-12-01 00:02:50.1450</td>\n",
       "      <td>2020-12-01 00:05:16.1940</td>\n",
       "      <td>3202</td>\n",
       "      <td>Newport PATH</td>\n",
       "      <td>40.727224</td>\n",
       "      <td>-74.033759</td>\n",
       "      <td>3199</td>\n",
       "      <td>Newport Pkwy</td>\n",
       "      <td>40.728745</td>\n",
       "      <td>-74.032108</td>\n",
       "      <td>Subscriber</td>\n",
       "    </tr>\n",
       "    <tr>\n",
       "      <th>1</th>\n",
       "      <td>2020-12-01 00:11:57.3910</td>\n",
       "      <td>2020-12-01 00:21:30.2510</td>\n",
       "      <td>3640</td>\n",
       "      <td>Journal Square</td>\n",
       "      <td>40.733670</td>\n",
       "      <td>-74.062500</td>\n",
       "      <td>3280</td>\n",
       "      <td>Astor Place</td>\n",
       "      <td>40.719282</td>\n",
       "      <td>-74.071262</td>\n",
       "      <td>Subscriber</td>\n",
       "    </tr>\n",
       "    <tr>\n",
       "      <th>2</th>\n",
       "      <td>2020-12-01 00:14:49.3610</td>\n",
       "      <td>2020-12-01 00:21:16.8730</td>\n",
       "      <td>3640</td>\n",
       "      <td>Journal Square</td>\n",
       "      <td>40.733670</td>\n",
       "      <td>-74.062500</td>\n",
       "      <td>3194</td>\n",
       "      <td>McGinley Square</td>\n",
       "      <td>40.725340</td>\n",
       "      <td>-74.067622</td>\n",
       "      <td>Subscriber</td>\n",
       "    </tr>\n",
       "    <tr>\n",
       "      <th>3</th>\n",
       "      <td>2020-12-01 00:45:06.3680</td>\n",
       "      <td>2020-12-01 00:48:14.4280</td>\n",
       "      <td>3186</td>\n",
       "      <td>Grove St PATH</td>\n",
       "      <td>40.719586</td>\n",
       "      <td>-74.043117</td>\n",
       "      <td>3270</td>\n",
       "      <td>Jersey &amp; 6th St</td>\n",
       "      <td>40.725289</td>\n",
       "      <td>-74.045572</td>\n",
       "      <td>Subscriber</td>\n",
       "    </tr>\n",
       "    <tr>\n",
       "      <th>4</th>\n",
       "      <td>2020-12-01 01:17:17.0110</td>\n",
       "      <td>2020-12-01 01:27:11.9400</td>\n",
       "      <td>3212</td>\n",
       "      <td>Christ Hospital</td>\n",
       "      <td>40.734786</td>\n",
       "      <td>-74.050444</td>\n",
       "      <td>3209</td>\n",
       "      <td>Brunswick St</td>\n",
       "      <td>40.724176</td>\n",
       "      <td>-74.050656</td>\n",
       "      <td>Subscriber</td>\n",
       "    </tr>\n",
       "  </tbody>\n",
       "</table>\n",
       "</div>"
      ],
      "text/plain": [
       "                 started_at                  ended_at  start_station_id  \\\n",
       "0  2020-12-01 00:02:50.1450  2020-12-01 00:05:16.1940              3202   \n",
       "1  2020-12-01 00:11:57.3910  2020-12-01 00:21:30.2510              3640   \n",
       "2  2020-12-01 00:14:49.3610  2020-12-01 00:21:16.8730              3640   \n",
       "3  2020-12-01 00:45:06.3680  2020-12-01 00:48:14.4280              3186   \n",
       "4  2020-12-01 01:17:17.0110  2020-12-01 01:27:11.9400              3212   \n",
       "\n",
       "  start_station_name  start_lat  start_lng  end_station_id end_station_name  \\\n",
       "0       Newport PATH  40.727224 -74.033759            3199     Newport Pkwy   \n",
       "1     Journal Square  40.733670 -74.062500            3280      Astor Place   \n",
       "2     Journal Square  40.733670 -74.062500            3194  McGinley Square   \n",
       "3      Grove St PATH  40.719586 -74.043117            3270  Jersey & 6th St   \n",
       "4    Christ Hospital  40.734786 -74.050444            3209     Brunswick St   \n",
       "\n",
       "     end_lat    end_lng    usertype  \n",
       "0  40.728745 -74.032108  Subscriber  \n",
       "1  40.719282 -74.071262  Subscriber  \n",
       "2  40.725340 -74.067622  Subscriber  \n",
       "3  40.725289 -74.045572  Subscriber  \n",
       "4  40.724176 -74.050656  Subscriber  "
      ]
     },
     "execution_count": 7,
     "metadata": {},
     "output_type": "execute_result"
    }
   ],
   "source": [
    "jan_feb.head()"
   ]
  },
  {
   "cell_type": "code",
   "execution_count": 8,
   "metadata": {},
   "outputs": [],
   "source": [
    "# jan_feb.loc[jan_feb[\"usertype\"]==\"Subscriber\", \"member_casual\"] = \"Member\"\n",
    "jan_feb.loc[jan_feb['usertype']== \"Subscriber\", 'member_casual'] = 'member'"
   ]
  },
  {
   "cell_type": "code",
   "execution_count": 9,
   "metadata": {},
   "outputs": [],
   "source": [
    "# add columns that are needed \n",
    "jan_feb.loc[jan_feb['usertype']== \"Subscriber\", 'member_casual'] = 'member'\n",
    "jan_feb.loc[jan_feb[\"usertype\"]==\"Customer\", \"member_casual\"] = \"casual\"\n",
    "jan_feb[\"ride_id\"] = \"unknown\"\n",
    "jan_feb[\"rideable_type\"] = \"unknown\"\n",
    "jan_feb.drop(\"usertype\",axis=1,inplace=True)"
   ]
  },
  {
   "cell_type": "code",
   "execution_count": 10,
   "metadata": {},
   "outputs": [],
   "source": [
    "# write to csv\n",
    "jan_feb.to_csv(\"Data/jan_feb_clean.csv\",index= False)"
   ]
  },
  {
   "cell_type": "code",
   "execution_count": 11,
   "metadata": {},
   "outputs": [
    {
     "data": {
      "text/plain": [
       "Index(['started_at', 'ended_at', 'start_station_id', 'start_station_name',\n",
       "       'start_lat', 'start_lng', 'end_station_id', 'end_station_name',\n",
       "       'end_lat', 'end_lng', 'member_casual', 'ride_id', 'rideable_type'],\n",
       "      dtype='object')"
      ]
     },
     "execution_count": 11,
     "metadata": {},
     "output_type": "execute_result"
    }
   ],
   "source": [
    "jan_feb.columns"
   ]
  },
  {
   "cell_type": "code",
   "execution_count": 14,
   "metadata": {},
   "outputs": [
    {
     "data": {
      "text/plain": [
       "array(['member', 'casual'], dtype=object)"
      ]
     },
     "execution_count": 14,
     "metadata": {},
     "output_type": "execute_result"
    }
   ],
   "source": [
    "jan_feb[\"member_casual\"].unique()"
   ]
  },
  {
   "cell_type": "code",
   "execution_count": null,
   "metadata": {},
   "outputs": [],
   "source": []
  }
 ],
 "metadata": {
  "interpreter": {
   "hash": "aee8b7b246df8f9039afb4144a1f6fd8d2ca17a180786b69acc140d282b71a49"
  },
  "kernelspec": {
   "display_name": "Python 3.9.5 64-bit",
   "language": "python",
   "name": "python3"
  },
  "language_info": {
   "codemirror_mode": {
    "name": "ipython",
    "version": 3
   },
   "file_extension": ".py",
   "mimetype": "text/x-python",
   "name": "python",
   "nbconvert_exporter": "python",
   "pygments_lexer": "ipython3",
   "version": "3.9.5"
  },
  "orig_nbformat": 4
 },
 "nbformat": 4,
 "nbformat_minor": 2
}
